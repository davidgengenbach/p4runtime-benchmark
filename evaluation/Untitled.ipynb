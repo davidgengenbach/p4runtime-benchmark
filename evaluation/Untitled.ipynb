{
 "cells": [
  {
   "cell_type": "code",
   "execution_count": null,
   "metadata": {},
   "outputs": [],
   "source": [
    "!scp dsp-accton-wedge100bf-32x:/root/dgengenbach/p4runtime-benchmark/build/measurement.txt results/"
   ]
  },
  {
   "cell_type": "code",
   "execution_count": null,
   "metadata": {},
   "outputs": [],
   "source": [
    "FILE = \"results/measurement.txt\"\n",
    "\n",
    "import pandas as pd\n",
    "\n",
    "df = pd.read_csv(FILE, header=None).rename(columns={0: 'timestamp', 1: 'packet_byte_count'})\n",
    "\n",
    "timestamps = df.timestamp.values\n",
    "byte_counts = df.packet_byte_count.values\n",
    "\n",
    "measurements = []\n",
    "cumulative_byte_count = 0\n",
    "for idx, (timestamp, byte_count) in enumerate(zip(timestamps, byte_counts)):\n",
    "    if idx == 0: continue\n",
    "    cumulative_byte_count += byte_count\n",
    "    measurements.append(dict(\n",
    "        timestamp=timestamp,\n",
    "        byte_count=cumulative_byte_count\n",
    "    ))\n",
    "df_new = pd.DataFrame(measurements)\n",
    "\n",
    "duration_in_nanoseconds = timestamps[-1] - timestamps[0]\n",
    "byte_count = sum(byte_counts)\n",
    "speed_in_bytes_per_nanoseconds = byte_count / duration_in_nanoseconds\n",
    "\n",
    "speed_in_megabits_per_second = speed_in_bytes_per_nanoseconds * 8 * 1000 * 1000 * 1000 / 1000 / 1000\n",
    "speed_in_megabits_per_second"
   ]
  }
 ],
 "metadata": {
  "kernelspec": {
   "display_name": "Python 3",
   "language": "python",
   "name": "python3"
  },
  "language_info": {
   "codemirror_mode": {
    "name": "ipython",
    "version": 3
   },
   "file_extension": ".py",
   "mimetype": "text/x-python",
   "name": "python",
   "nbconvert_exporter": "python",
   "pygments_lexer": "ipython3",
   "version": "3.7.9"
  },
  "toc": {
   "base_numbering": 1,
   "nav_menu": {},
   "number_sections": true,
   "sideBar": true,
   "skip_h1_title": false,
   "title_cell": "Table of Contents",
   "title_sidebar": "Contents",
   "toc_cell": false,
   "toc_position": {},
   "toc_section_display": true,
   "toc_window_display": false
  },
  "varInspector": {
   "cols": {
    "lenName": 16,
    "lenType": 16,
    "lenVar": 40
   },
   "kernels_config": {
    "python": {
     "delete_cmd_postfix": "",
     "delete_cmd_prefix": "del ",
     "library": "var_list.py",
     "varRefreshCmd": "print(var_dic_list())"
    },
    "r": {
     "delete_cmd_postfix": ") ",
     "delete_cmd_prefix": "rm(",
     "library": "var_list.r",
     "varRefreshCmd": "cat(var_dic_list()) "
    }
   },
   "types_to_exclude": [
    "module",
    "function",
    "builtin_function_or_method",
    "instance",
    "_Feature"
   ],
   "window_display": false
  }
 },
 "nbformat": 4,
 "nbformat_minor": 4
}
